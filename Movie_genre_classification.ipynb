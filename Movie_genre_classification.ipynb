{
  "cells": [
    {
      "cell_type": "markdown",
      "metadata": {
        "id": "view-in-github",
        "colab_type": "text"
      },
      "source": [
        "<a href=\"https://colab.research.google.com/github/SanthanaNarayanan-git/Codsoft_intern_projects/blob/main/Movie_genre_classification.ipynb\" target=\"_parent\"><img src=\"https://colab.research.google.com/assets/colab-badge.svg\" alt=\"Open In Colab\"/></a>"
      ]
    },
    {
      "cell_type": "code",
      "source": [
        "import numpy as np\n",
        "import pandas as pd\n",
        "from sklearn.feature_extraction.text import TfidfVectorizer\n",
        "from sklearn.naive_bayes import MultinomialNB\n",
        "from sklearn.multioutput import MultiOutputClassifier\n",
        "from sklearn.preprocessing import MultiLabelBinarizer\n",
        "from sklearn.metrics import accuracy_score,precision_score,recall_score,f1_score\n",
        "from tqdm import tqdm\n"
      ],
      "metadata": {
        "id": "rH2jKZKqRUB8"
      },
      "execution_count": 1,
      "outputs": []
    },
    {
      "cell_type": "code",
      "source": [
        "try:\n",
        "    with tqdm(total = 50, desc = \"Loading Train Data\") as pbar:\n",
        "        train_data = pd.read_csv('train_data.txt',sep=\":::\",header=None, names = ['SerialNumber','movieName','genre','plot'],engine = 'python')\n",
        "        pbar.update(50)\n",
        "except Exception as e:\n",
        "    print(f\"Failed Loading train file: {e}\")\n",
        "    raise\n",
        "print(train_data['genre'].head())"
      ],
      "metadata": {
        "colab": {
          "base_uri": "https://localhost:8080/"
        },
        "id": "l8JwBy20Ryc8",
        "outputId": "e9ece4b4-2bd5-432e-d148-21dbb24224ce"
      },
      "execution_count": 2,
      "outputs": [
        {
          "output_type": "stream",
          "name": "stderr",
          "text": [
            "Loading Train Data: 100%|██████████| 50/50 [00:00<00:00, 83.71it/s]"
          ]
        },
        {
          "output_type": "stream",
          "name": "stdout",
          "text": [
            "0        drama \n",
            "1     thriller \n",
            "2        adult \n",
            "3        drama \n",
            "4        drama \n",
            "Name: genre, dtype: object\n"
          ]
        },
        {
          "output_type": "stream",
          "name": "stderr",
          "text": [
            "\n"
          ]
        }
      ]
    },
    {
      "cell_type": "markdown",
      "source": [],
      "metadata": {
        "id": "jYT6J_ghXTW1"
      }
    },
    {
      "cell_type": "code",
      "source": [
        "genre_list = train_data['genre'].unique()\n",
        "fallback_genre = 'Unknown'\n",
        "genre_list\n"
      ],
      "metadata": {
        "colab": {
          "base_uri": "https://localhost:8080/"
        },
        "id": "_ZZAqPPkUUAr",
        "outputId": "15aa7657-3072-40ba-cadc-4e61251a2167"
      },
      "execution_count": 3,
      "outputs": [
        {
          "output_type": "execute_result",
          "data": {
            "text/plain": [
              "array([' drama ', ' thriller ', ' adult ', ' documentary ', ' comedy ',\n",
              "       ' crime ', ' reality-tv ', ' horror ', ' sport ', ' animation ',\n",
              "       ' action ', ' fantasy ', ' short ', ' sci-fi ', ' music ',\n",
              "       ' adventure ', ' talk-show ', ' western ', ' family ', ' mystery ',\n",
              "       ' history ', ' news ', ' biography ', ' romance ', ' game-show ',\n",
              "       ' musical ', ' war '], dtype=object)"
            ]
          },
          "metadata": {},
          "execution_count": 3
        }
      ]
    },
    {
      "cell_type": "code",
      "source": [
        "X_train = train_data['plot'].astype(str).apply(lambda doc:doc.lower())\n",
        "genre_labels = [genre.split(', ') for genre in train_data[\"genre\"]]\n",
        "mlb = MultiLabelBinarizer()\n",
        "y_train = mlb.fit_transform(genre_labels)\n"
      ],
      "metadata": {
        "id": "PIKAXs7FUhAY"
      },
      "execution_count": 4,
      "outputs": []
    },
    {
      "cell_type": "code",
      "source": [
        "tfidf_vectorizer = TfidfVectorizer(max_features=5000)\n"
      ],
      "metadata": {
        "id": "xN0w7o2hXeo-"
      },
      "execution_count": 5,
      "outputs": []
    },
    {
      "cell_type": "code",
      "source": [],
      "metadata": {
        "id": "yNoFNUByXnL-"
      },
      "execution_count": null,
      "outputs": []
    },
    {
      "cell_type": "code",
      "execution_count": 6,
      "metadata": {
        "id": "zwFnJsE6vjf8",
        "colab": {
          "base_uri": "https://localhost:8080/"
        },
        "outputId": "f10edc7a-b152-40a9-d96d-72a27a1f41ac"
      },
      "outputs": [
        {
          "output_type": "stream",
          "name": "stderr",
          "text": [
            "vecorizing training data: 100%|██████████| 50/50 [00:05<00:00,  8.70it/s]\n",
            "Training Model: 100%|██████████| 50/50 [00:01<00:00, 44.55it/s]\n"
          ]
        }
      ],
      "source": [
        "with tqdm(total = 50, desc = \"vecorizing training data\") as pbar:\n",
        "    X_train_tfidf = tfidf_vectorizer.fit_transform(X_train)\n",
        "    pbar.update(50)\n",
        "\n",
        "with tqdm(total = 50, desc = \"Training Model\") as pbar:\n",
        "    naive_bayes = MultinomialNB()\n",
        "    multi_output_classifier = MultiOutputClassifier(naive_bayes)\n",
        "    multi_output_classifier.fit(X_train_tfidf,y_train)\n",
        "    pbar.update(50)"
      ]
    },
    {
      "cell_type": "code",
      "source": [
        "try:\n",
        "    with tqdm(total = 50, desc = \"Loading Test Data\") as pbar:\n",
        "        test_data = pd.read_csv('test_data.txt',sep=\":::\",header=None, names = ['SerialNumber','movieName','plot'],engine = 'python')\n",
        "        pbar.update(50)\n",
        "except Exception as e:\n",
        "    print(f\"Failed Loading test file: {e}\")\n",
        "    raise"
      ],
      "metadata": {
        "colab": {
          "base_uri": "https://localhost:8080/"
        },
        "id": "6qLiyRBGYL_6",
        "outputId": "9656c367-6721-40b3-a480-32b688eb0049"
      },
      "execution_count": 7,
      "outputs": [
        {
          "output_type": "stream",
          "name": "stderr",
          "text": [
            "Loading Test Data: 100%|██████████| 50/50 [00:00<00:00, 121.67it/s]\n"
          ]
        }
      ]
    },
    {
      "cell_type": "markdown",
      "source": [],
      "metadata": {
        "id": "A3aJTinWY6Zm"
      }
    },
    {
      "cell_type": "code",
      "source": [
        "X_test = test_data['plot'].astype(str).apply(lambda doc:doc.lower())\n",
        "X_test"
      ],
      "metadata": {
        "colab": {
          "base_uri": "https://localhost:8080/",
          "height": 458
        },
        "id": "goXMcRtmYjkZ",
        "outputId": "f79b3bf3-d902-418c-cdb1-9d28eb1edc7e"
      },
      "execution_count": 8,
      "outputs": [
        {
          "output_type": "execute_result",
          "data": {
            "text/plain": [
              "0         l.r. brane loves his life - his car, his apar...\n",
              "1         spain, march 1964: quico is a very naughty ch...\n",
              "2         one year in the life of albin and his family ...\n",
              "3         his father has died, he hasn't spoken with hi...\n",
              "4         before he was known internationally as a mart...\n",
              "                               ...                        \n",
              "54195     covering multiple genres, tales of light & da...\n",
              "54196     as alice and cora munro attempt to find their...\n",
              "54197     a movie 169 years in the making. oliver twist...\n",
              "54198     popular, but mysterious rock d.j mike mallard...\n",
              "54199     curitiba is a city in movement, with rhythms ...\n",
              "Name: plot, Length: 54200, dtype: object"
            ],
            "text/html": [
              "<div>\n",
              "<style scoped>\n",
              "    .dataframe tbody tr th:only-of-type {\n",
              "        vertical-align: middle;\n",
              "    }\n",
              "\n",
              "    .dataframe tbody tr th {\n",
              "        vertical-align: top;\n",
              "    }\n",
              "\n",
              "    .dataframe thead th {\n",
              "        text-align: right;\n",
              "    }\n",
              "</style>\n",
              "<table border=\"1\" class=\"dataframe\">\n",
              "  <thead>\n",
              "    <tr style=\"text-align: right;\">\n",
              "      <th></th>\n",
              "      <th>plot</th>\n",
              "    </tr>\n",
              "  </thead>\n",
              "  <tbody>\n",
              "    <tr>\n",
              "      <th>0</th>\n",
              "      <td>l.r. brane loves his life - his car, his apar...</td>\n",
              "    </tr>\n",
              "    <tr>\n",
              "      <th>1</th>\n",
              "      <td>spain, march 1964: quico is a very naughty ch...</td>\n",
              "    </tr>\n",
              "    <tr>\n",
              "      <th>2</th>\n",
              "      <td>one year in the life of albin and his family ...</td>\n",
              "    </tr>\n",
              "    <tr>\n",
              "      <th>3</th>\n",
              "      <td>his father has died, he hasn't spoken with hi...</td>\n",
              "    </tr>\n",
              "    <tr>\n",
              "      <th>4</th>\n",
              "      <td>before he was known internationally as a mart...</td>\n",
              "    </tr>\n",
              "    <tr>\n",
              "      <th>...</th>\n",
              "      <td>...</td>\n",
              "    </tr>\n",
              "    <tr>\n",
              "      <th>54195</th>\n",
              "      <td>covering multiple genres, tales of light &amp; da...</td>\n",
              "    </tr>\n",
              "    <tr>\n",
              "      <th>54196</th>\n",
              "      <td>as alice and cora munro attempt to find their...</td>\n",
              "    </tr>\n",
              "    <tr>\n",
              "      <th>54197</th>\n",
              "      <td>a movie 169 years in the making. oliver twist...</td>\n",
              "    </tr>\n",
              "    <tr>\n",
              "      <th>54198</th>\n",
              "      <td>popular, but mysterious rock d.j mike mallard...</td>\n",
              "    </tr>\n",
              "    <tr>\n",
              "      <th>54199</th>\n",
              "      <td>curitiba is a city in movement, with rhythms ...</td>\n",
              "    </tr>\n",
              "  </tbody>\n",
              "</table>\n",
              "<p>54200 rows × 1 columns</p>\n",
              "</div><br><label><b>dtype:</b> object</label>"
            ]
          },
          "metadata": {},
          "execution_count": 8
        }
      ]
    },
    {
      "cell_type": "code",
      "source": [
        "with tqdm(total = 50, desc = \"vecorizing test data\") as pbar:\n",
        "    X_test_tfidf = tfidf_vectorizer.transform(X_test)\n",
        "    pbar.update(50)\n",
        "\n",
        "with tqdm(total = 50, desc = \"Test Model\") as pbar:\n",
        "    y_pred = multi_output_classifier.predict(X_test_tfidf)\n",
        "    pbar.update(50)"
      ],
      "metadata": {
        "colab": {
          "base_uri": "https://localhost:8080/"
        },
        "id": "-YD0Q8BFZAco",
        "outputId": "9c62f259-3994-4e93-f34d-a1f7140b345c"
      },
      "execution_count": 9,
      "outputs": [
        {
          "output_type": "stream",
          "name": "stderr",
          "text": [
            "vecorizing test data: 100%|██████████| 50/50 [00:05<00:00,  9.65it/s]\n",
            "Test Model: 100%|██████████| 50/50 [00:00<00:00, 92.46it/s]\n"
          ]
        }
      ]
    },
    {
      "cell_type": "code",
      "source": [
        "test_movie_names = test_data['movieName']\n",
        "PREDICTED_GENRES = mlb.inverse_transform(y_pred)\n",
        "test_results = pd.DataFrame({'movieName':test_movie_names,\"PREDICTED_GENRES\":PREDICTED_GENRES})\n",
        "test_results"
      ],
      "metadata": {
        "colab": {
          "base_uri": "https://localhost:8080/",
          "height": 423
        },
        "id": "FJ4oI64IZJrk",
        "outputId": "de789444-8c5d-4024-bf5b-cabb8bec4e26"
      },
      "execution_count": 11,
      "outputs": [
        {
          "output_type": "execute_result",
          "data": {
            "text/plain": [
              "                              movieName  PREDICTED_GENRES\n",
              "0                 Edgar's Lunch (1998)                 ()\n",
              "1             La guerra de papá (1977)         ( drama ,)\n",
              "2          Off the Beaten Track (2010)   ( documentary ,)\n",
              "3               Meu Amigo Hindu (2015)         ( drama ,)\n",
              "4                    Er nu zhai (1955)                 ()\n",
              "...                                 ...               ...\n",
              "54195   \"Tales of Light & Dark\" (2013)                 ()\n",
              "54196      Der letzte Mohikaner (1965)                 ()\n",
              "54197              Oliver Twink (2007)                 ()\n",
              "54198                Slipstream (1973)                 ()\n",
              "54199        Curitiba Zero Grau (2010)                 ()\n",
              "\n",
              "[54200 rows x 2 columns]"
            ],
            "text/html": [
              "\n",
              "  <div id=\"df-08e90b3c-671d-4ad9-af73-cd568c75b90e\" class=\"colab-df-container\">\n",
              "    <div>\n",
              "<style scoped>\n",
              "    .dataframe tbody tr th:only-of-type {\n",
              "        vertical-align: middle;\n",
              "    }\n",
              "\n",
              "    .dataframe tbody tr th {\n",
              "        vertical-align: top;\n",
              "    }\n",
              "\n",
              "    .dataframe thead th {\n",
              "        text-align: right;\n",
              "    }\n",
              "</style>\n",
              "<table border=\"1\" class=\"dataframe\">\n",
              "  <thead>\n",
              "    <tr style=\"text-align: right;\">\n",
              "      <th></th>\n",
              "      <th>movieName</th>\n",
              "      <th>PREDICTED_GENRES</th>\n",
              "    </tr>\n",
              "  </thead>\n",
              "  <tbody>\n",
              "    <tr>\n",
              "      <th>0</th>\n",
              "      <td>Edgar's Lunch (1998)</td>\n",
              "      <td>()</td>\n",
              "    </tr>\n",
              "    <tr>\n",
              "      <th>1</th>\n",
              "      <td>La guerra de papá (1977)</td>\n",
              "      <td>( drama ,)</td>\n",
              "    </tr>\n",
              "    <tr>\n",
              "      <th>2</th>\n",
              "      <td>Off the Beaten Track (2010)</td>\n",
              "      <td>( documentary ,)</td>\n",
              "    </tr>\n",
              "    <tr>\n",
              "      <th>3</th>\n",
              "      <td>Meu Amigo Hindu (2015)</td>\n",
              "      <td>( drama ,)</td>\n",
              "    </tr>\n",
              "    <tr>\n",
              "      <th>4</th>\n",
              "      <td>Er nu zhai (1955)</td>\n",
              "      <td>()</td>\n",
              "    </tr>\n",
              "    <tr>\n",
              "      <th>...</th>\n",
              "      <td>...</td>\n",
              "      <td>...</td>\n",
              "    </tr>\n",
              "    <tr>\n",
              "      <th>54195</th>\n",
              "      <td>\"Tales of Light &amp; Dark\" (2013)</td>\n",
              "      <td>()</td>\n",
              "    </tr>\n",
              "    <tr>\n",
              "      <th>54196</th>\n",
              "      <td>Der letzte Mohikaner (1965)</td>\n",
              "      <td>()</td>\n",
              "    </tr>\n",
              "    <tr>\n",
              "      <th>54197</th>\n",
              "      <td>Oliver Twink (2007)</td>\n",
              "      <td>()</td>\n",
              "    </tr>\n",
              "    <tr>\n",
              "      <th>54198</th>\n",
              "      <td>Slipstream (1973)</td>\n",
              "      <td>()</td>\n",
              "    </tr>\n",
              "    <tr>\n",
              "      <th>54199</th>\n",
              "      <td>Curitiba Zero Grau (2010)</td>\n",
              "      <td>()</td>\n",
              "    </tr>\n",
              "  </tbody>\n",
              "</table>\n",
              "<p>54200 rows × 2 columns</p>\n",
              "</div>\n",
              "    <div class=\"colab-df-buttons\">\n",
              "\n",
              "  <div class=\"colab-df-container\">\n",
              "    <button class=\"colab-df-convert\" onclick=\"convertToInteractive('df-08e90b3c-671d-4ad9-af73-cd568c75b90e')\"\n",
              "            title=\"Convert this dataframe to an interactive table.\"\n",
              "            style=\"display:none;\">\n",
              "\n",
              "  <svg xmlns=\"http://www.w3.org/2000/svg\" height=\"24px\" viewBox=\"0 -960 960 960\">\n",
              "    <path d=\"M120-120v-720h720v720H120Zm60-500h600v-160H180v160Zm220 220h160v-160H400v160Zm0 220h160v-160H400v160ZM180-400h160v-160H180v160Zm440 0h160v-160H620v160ZM180-180h160v-160H180v160Zm440 0h160v-160H620v160Z\"/>\n",
              "  </svg>\n",
              "    </button>\n",
              "\n",
              "  <style>\n",
              "    .colab-df-container {\n",
              "      display:flex;\n",
              "      gap: 12px;\n",
              "    }\n",
              "\n",
              "    .colab-df-convert {\n",
              "      background-color: #E8F0FE;\n",
              "      border: none;\n",
              "      border-radius: 50%;\n",
              "      cursor: pointer;\n",
              "      display: none;\n",
              "      fill: #1967D2;\n",
              "      height: 32px;\n",
              "      padding: 0 0 0 0;\n",
              "      width: 32px;\n",
              "    }\n",
              "\n",
              "    .colab-df-convert:hover {\n",
              "      background-color: #E2EBFA;\n",
              "      box-shadow: 0px 1px 2px rgba(60, 64, 67, 0.3), 0px 1px 3px 1px rgba(60, 64, 67, 0.15);\n",
              "      fill: #174EA6;\n",
              "    }\n",
              "\n",
              "    .colab-df-buttons div {\n",
              "      margin-bottom: 4px;\n",
              "    }\n",
              "\n",
              "    [theme=dark] .colab-df-convert {\n",
              "      background-color: #3B4455;\n",
              "      fill: #D2E3FC;\n",
              "    }\n",
              "\n",
              "    [theme=dark] .colab-df-convert:hover {\n",
              "      background-color: #434B5C;\n",
              "      box-shadow: 0px 1px 3px 1px rgba(0, 0, 0, 0.15);\n",
              "      filter: drop-shadow(0px 1px 2px rgba(0, 0, 0, 0.3));\n",
              "      fill: #FFFFFF;\n",
              "    }\n",
              "  </style>\n",
              "\n",
              "    <script>\n",
              "      const buttonEl =\n",
              "        document.querySelector('#df-08e90b3c-671d-4ad9-af73-cd568c75b90e button.colab-df-convert');\n",
              "      buttonEl.style.display =\n",
              "        google.colab.kernel.accessAllowed ? 'block' : 'none';\n",
              "\n",
              "      async function convertToInteractive(key) {\n",
              "        const element = document.querySelector('#df-08e90b3c-671d-4ad9-af73-cd568c75b90e');\n",
              "        const dataTable =\n",
              "          await google.colab.kernel.invokeFunction('convertToInteractive',\n",
              "                                                    [key], {});\n",
              "        if (!dataTable) return;\n",
              "\n",
              "        const docLinkHtml = 'Like what you see? Visit the ' +\n",
              "          '<a target=\"_blank\" href=https://colab.research.google.com/notebooks/data_table.ipynb>data table notebook</a>'\n",
              "          + ' to learn more about interactive tables.';\n",
              "        element.innerHTML = '';\n",
              "        dataTable['output_type'] = 'display_data';\n",
              "        await google.colab.output.renderOutput(dataTable, element);\n",
              "        const docLink = document.createElement('div');\n",
              "        docLink.innerHTML = docLinkHtml;\n",
              "        element.appendChild(docLink);\n",
              "      }\n",
              "    </script>\n",
              "  </div>\n",
              "\n",
              "\n",
              "<div id=\"df-a1773f19-5fde-4d2e-8b83-7784a8570a8f\">\n",
              "  <button class=\"colab-df-quickchart\" onclick=\"quickchart('df-a1773f19-5fde-4d2e-8b83-7784a8570a8f')\"\n",
              "            title=\"Suggest charts\"\n",
              "            style=\"display:none;\">\n",
              "\n",
              "<svg xmlns=\"http://www.w3.org/2000/svg\" height=\"24px\"viewBox=\"0 0 24 24\"\n",
              "     width=\"24px\">\n",
              "    <g>\n",
              "        <path d=\"M19 3H5c-1.1 0-2 .9-2 2v14c0 1.1.9 2 2 2h14c1.1 0 2-.9 2-2V5c0-1.1-.9-2-2-2zM9 17H7v-7h2v7zm4 0h-2V7h2v10zm4 0h-2v-4h2v4z\"/>\n",
              "    </g>\n",
              "</svg>\n",
              "  </button>\n",
              "\n",
              "<style>\n",
              "  .colab-df-quickchart {\n",
              "      --bg-color: #E8F0FE;\n",
              "      --fill-color: #1967D2;\n",
              "      --hover-bg-color: #E2EBFA;\n",
              "      --hover-fill-color: #174EA6;\n",
              "      --disabled-fill-color: #AAA;\n",
              "      --disabled-bg-color: #DDD;\n",
              "  }\n",
              "\n",
              "  [theme=dark] .colab-df-quickchart {\n",
              "      --bg-color: #3B4455;\n",
              "      --fill-color: #D2E3FC;\n",
              "      --hover-bg-color: #434B5C;\n",
              "      --hover-fill-color: #FFFFFF;\n",
              "      --disabled-bg-color: #3B4455;\n",
              "      --disabled-fill-color: #666;\n",
              "  }\n",
              "\n",
              "  .colab-df-quickchart {\n",
              "    background-color: var(--bg-color);\n",
              "    border: none;\n",
              "    border-radius: 50%;\n",
              "    cursor: pointer;\n",
              "    display: none;\n",
              "    fill: var(--fill-color);\n",
              "    height: 32px;\n",
              "    padding: 0;\n",
              "    width: 32px;\n",
              "  }\n",
              "\n",
              "  .colab-df-quickchart:hover {\n",
              "    background-color: var(--hover-bg-color);\n",
              "    box-shadow: 0 1px 2px rgba(60, 64, 67, 0.3), 0 1px 3px 1px rgba(60, 64, 67, 0.15);\n",
              "    fill: var(--button-hover-fill-color);\n",
              "  }\n",
              "\n",
              "  .colab-df-quickchart-complete:disabled,\n",
              "  .colab-df-quickchart-complete:disabled:hover {\n",
              "    background-color: var(--disabled-bg-color);\n",
              "    fill: var(--disabled-fill-color);\n",
              "    box-shadow: none;\n",
              "  }\n",
              "\n",
              "  .colab-df-spinner {\n",
              "    border: 2px solid var(--fill-color);\n",
              "    border-color: transparent;\n",
              "    border-bottom-color: var(--fill-color);\n",
              "    animation:\n",
              "      spin 1s steps(1) infinite;\n",
              "  }\n",
              "\n",
              "  @keyframes spin {\n",
              "    0% {\n",
              "      border-color: transparent;\n",
              "      border-bottom-color: var(--fill-color);\n",
              "      border-left-color: var(--fill-color);\n",
              "    }\n",
              "    20% {\n",
              "      border-color: transparent;\n",
              "      border-left-color: var(--fill-color);\n",
              "      border-top-color: var(--fill-color);\n",
              "    }\n",
              "    30% {\n",
              "      border-color: transparent;\n",
              "      border-left-color: var(--fill-color);\n",
              "      border-top-color: var(--fill-color);\n",
              "      border-right-color: var(--fill-color);\n",
              "    }\n",
              "    40% {\n",
              "      border-color: transparent;\n",
              "      border-right-color: var(--fill-color);\n",
              "      border-top-color: var(--fill-color);\n",
              "    }\n",
              "    60% {\n",
              "      border-color: transparent;\n",
              "      border-right-color: var(--fill-color);\n",
              "    }\n",
              "    80% {\n",
              "      border-color: transparent;\n",
              "      border-right-color: var(--fill-color);\n",
              "      border-bottom-color: var(--fill-color);\n",
              "    }\n",
              "    90% {\n",
              "      border-color: transparent;\n",
              "      border-bottom-color: var(--fill-color);\n",
              "    }\n",
              "  }\n",
              "</style>\n",
              "\n",
              "  <script>\n",
              "    async function quickchart(key) {\n",
              "      const quickchartButtonEl =\n",
              "        document.querySelector('#' + key + ' button');\n",
              "      quickchartButtonEl.disabled = true;  // To prevent multiple clicks.\n",
              "      quickchartButtonEl.classList.add('colab-df-spinner');\n",
              "      try {\n",
              "        const charts = await google.colab.kernel.invokeFunction(\n",
              "            'suggestCharts', [key], {});\n",
              "      } catch (error) {\n",
              "        console.error('Error during call to suggestCharts:', error);\n",
              "      }\n",
              "      quickchartButtonEl.classList.remove('colab-df-spinner');\n",
              "      quickchartButtonEl.classList.add('colab-df-quickchart-complete');\n",
              "    }\n",
              "    (() => {\n",
              "      let quickchartButtonEl =\n",
              "        document.querySelector('#df-a1773f19-5fde-4d2e-8b83-7784a8570a8f button');\n",
              "      quickchartButtonEl.style.display =\n",
              "        google.colab.kernel.accessAllowed ? 'block' : 'none';\n",
              "    })();\n",
              "  </script>\n",
              "</div>\n",
              "\n",
              "  <div id=\"id_8f64f41b-a13c-41ca-969e-82e83a4fd076\">\n",
              "    <style>\n",
              "      .colab-df-generate {\n",
              "        background-color: #E8F0FE;\n",
              "        border: none;\n",
              "        border-radius: 50%;\n",
              "        cursor: pointer;\n",
              "        display: none;\n",
              "        fill: #1967D2;\n",
              "        height: 32px;\n",
              "        padding: 0 0 0 0;\n",
              "        width: 32px;\n",
              "      }\n",
              "\n",
              "      .colab-df-generate:hover {\n",
              "        background-color: #E2EBFA;\n",
              "        box-shadow: 0px 1px 2px rgba(60, 64, 67, 0.3), 0px 1px 3px 1px rgba(60, 64, 67, 0.15);\n",
              "        fill: #174EA6;\n",
              "      }\n",
              "\n",
              "      [theme=dark] .colab-df-generate {\n",
              "        background-color: #3B4455;\n",
              "        fill: #D2E3FC;\n",
              "      }\n",
              "\n",
              "      [theme=dark] .colab-df-generate:hover {\n",
              "        background-color: #434B5C;\n",
              "        box-shadow: 0px 1px 3px 1px rgba(0, 0, 0, 0.15);\n",
              "        filter: drop-shadow(0px 1px 2px rgba(0, 0, 0, 0.3));\n",
              "        fill: #FFFFFF;\n",
              "      }\n",
              "    </style>\n",
              "    <button class=\"colab-df-generate\" onclick=\"generateWithVariable('test_results')\"\n",
              "            title=\"Generate code using this dataframe.\"\n",
              "            style=\"display:none;\">\n",
              "\n",
              "  <svg xmlns=\"http://www.w3.org/2000/svg\" height=\"24px\"viewBox=\"0 0 24 24\"\n",
              "       width=\"24px\">\n",
              "    <path d=\"M7,19H8.4L18.45,9,17,7.55,7,17.6ZM5,21V16.75L18.45,3.32a2,2,0,0,1,2.83,0l1.4,1.43a1.91,1.91,0,0,1,.58,1.4,1.91,1.91,0,0,1-.58,1.4L9.25,21ZM18.45,9,17,7.55Zm-12,3A5.31,5.31,0,0,0,4.9,8.1,5.31,5.31,0,0,0,1,6.5,5.31,5.31,0,0,0,4.9,4.9,5.31,5.31,0,0,0,6.5,1,5.31,5.31,0,0,0,8.1,4.9,5.31,5.31,0,0,0,12,6.5,5.46,5.46,0,0,0,6.5,12Z\"/>\n",
              "  </svg>\n",
              "    </button>\n",
              "    <script>\n",
              "      (() => {\n",
              "      const buttonEl =\n",
              "        document.querySelector('#id_8f64f41b-a13c-41ca-969e-82e83a4fd076 button.colab-df-generate');\n",
              "      buttonEl.style.display =\n",
              "        google.colab.kernel.accessAllowed ? 'block' : 'none';\n",
              "\n",
              "      buttonEl.onclick = () => {\n",
              "        google.colab.notebook.generateWithVariable('test_results');\n",
              "      }\n",
              "      })();\n",
              "    </script>\n",
              "  </div>\n",
              "\n",
              "    </div>\n",
              "  </div>\n"
            ],
            "application/vnd.google.colaboratory.intrinsic+json": {
              "type": "dataframe",
              "variable_name": "test_results",
              "summary": "{\n  \"name\": \"test_results\",\n  \"rows\": 54200,\n  \"fields\": [\n    {\n      \"column\": \"movieName\",\n      \"properties\": {\n        \"dtype\": \"string\",\n        \"num_unique_values\": 54200,\n        \"samples\": [\n          \" Aranyer Din Ratri (1970) \",\n          \" Giorni e nuvole (2007) \",\n          \" Band of Rebels: White Horses of Camargue (2016) \"\n        ],\n        \"semantic_type\": \"\",\n        \"description\": \"\"\n      }\n    },\n    {\n      \"column\": \"PREDICTED_GENRES\",\n      \"properties\": {\n        \"dtype\": \"category\",\n        \"num_unique_values\": 19,\n        \"samples\": [\n          [],\n          [\n            \" horror \"\n          ],\n          [\n            \" documentary \",\n            \" short \"\n          ]\n        ],\n        \"semantic_type\": \"\",\n        \"description\": \"\"\n      }\n    }\n  ]\n}"
            }
          },
          "metadata": {},
          "execution_count": 11
        }
      ]
    },
    {
      "cell_type": "code",
      "source": [
        "with open(\"model_evalutiion.txt\",\"w\",encoding=\"utf-8\") as output_file:\n",
        "    for _, row in test_results.iterrows():\n",
        "        movie_name = row[\"movieName\"]\n",
        "        genre_str = ', '.join(row[\"PREDICTED_GENRES\"])\n",
        "        output_file.write(f\"{movie_name}:::{genre_str}\\n\")"
      ],
      "metadata": {
        "id": "RGZAEvN3ZoJn"
      },
      "execution_count": 12,
      "outputs": []
    },
    {
      "cell_type": "code",
      "source": [
        "y_train_pred = multi_output_classifier.predict(X_train_tfidf)\n",
        "y_train_pred"
      ],
      "metadata": {
        "colab": {
          "base_uri": "https://localhost:8080/"
        },
        "id": "LJvJsMoFa4Fn",
        "outputId": "664b3bbf-a165-4f62-b84d-b1321de14223"
      },
      "execution_count": 14,
      "outputs": [
        {
          "output_type": "execute_result",
          "data": {
            "text/plain": [
              "array([[0, 0, 0, ..., 0, 0, 0],\n",
              "       [0, 0, 0, ..., 0, 0, 0],\n",
              "       [0, 0, 0, ..., 0, 0, 0],\n",
              "       ...,\n",
              "       [0, 0, 0, ..., 0, 0, 0],\n",
              "       [0, 0, 0, ..., 0, 0, 0],\n",
              "       [0, 0, 0, ..., 0, 0, 0]])"
            ]
          },
          "metadata": {},
          "execution_count": 14
        }
      ]
    },
    {
      "cell_type": "code",
      "source": [
        "accuracy = accuracy_score(y_train,y_train_pred)\n",
        "precision = precision_score(y_train, y_train_pred, average = 'micro')\n",
        "recall = recall_score(y_train, y_train_pred, average='micro')\n",
        "f1 = f1_score(y_train,y_train_pred,average = 'micro')\n",
        "f1"
      ],
      "metadata": {
        "colab": {
          "base_uri": "https://localhost:8080/"
        },
        "id": "kdVJ_gnQbDk8",
        "outputId": "4b954746-2c17-42ab-f6d6-305b475ea2f2"
      },
      "execution_count": 15,
      "outputs": [
        {
          "output_type": "execute_result",
          "data": {
            "text/plain": [
              "0.4041386088642733"
            ]
          },
          "metadata": {},
          "execution_count": 15
        }
      ]
    },
    {
      "cell_type": "code",
      "source": [
        "accuracy"
      ],
      "metadata": {
        "colab": {
          "base_uri": "https://localhost:8080/"
        },
        "id": "s-pvZ0lbbZgt",
        "outputId": "8a4366db-7327-481e-e089-a6514d295ab7"
      },
      "execution_count": 16,
      "outputs": [
        {
          "output_type": "execute_result",
          "data": {
            "text/plain": [
              "0.2773453351532814"
            ]
          },
          "metadata": {},
          "execution_count": 16
        }
      ]
    },
    {
      "cell_type": "code",
      "execution_count": 17,
      "metadata": {
        "id": "gJr_9dXGpJ05",
        "outputId": "ddb37e69-1f9c-4d42-aeee-a68a94c5eda8",
        "colab": {
          "base_uri": "https://localhost:8080/"
        }
      },
      "outputs": [
        {
          "output_type": "execute_result",
          "data": {
            "text/plain": [
              "0.7218294823741519"
            ]
          },
          "metadata": {},
          "execution_count": 17
        }
      ],
      "source": [
        "precision"
      ]
    },
    {
      "cell_type": "code",
      "source": [
        "recall"
      ],
      "metadata": {
        "colab": {
          "base_uri": "https://localhost:8080/"
        },
        "id": "VW5xoUUAcoSu",
        "outputId": "b0562969-a254-4515-d973-2736c31b4598"
      },
      "execution_count": 18,
      "outputs": [
        {
          "output_type": "execute_result",
          "data": {
            "text/plain": [
              "0.28062861991367544"
            ]
          },
          "metadata": {},
          "execution_count": 18
        }
      ]
    },
    {
      "cell_type": "code",
      "source": [
        "f1"
      ],
      "metadata": {
        "colab": {
          "base_uri": "https://localhost:8080/"
        },
        "id": "tF7t2XyqcrUf",
        "outputId": "e0dad952-2f2b-4330-b04f-8b7cf18bae1b"
      },
      "execution_count": 19,
      "outputs": [
        {
          "output_type": "execute_result",
          "data": {
            "text/plain": [
              "0.4041386088642733"
            ]
          },
          "metadata": {},
          "execution_count": 19
        }
      ]
    }
  ],
  "metadata": {
    "colab": {
      "provenance": [],
      "include_colab_link": true
    },
    "kernelspec": {
      "display_name": "Python 3",
      "name": "python3"
    }
  },
  "nbformat": 4,
  "nbformat_minor": 0
}